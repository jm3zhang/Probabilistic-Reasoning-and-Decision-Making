{
 "cells": [
  {
   "cell_type": "code",
   "execution_count": 70,
   "metadata": {},
   "outputs": [],
   "source": [
    "# sprinkler.py\n",
    "import pylab as pl\n",
    "import pymc3 as pm\n",
    "import numpy as np\n",
    "import theano as tt\n"
   ]
  },
  {
   "cell_type": "code",
   "execution_count": 71,
   "metadata": {},
   "outputs": [
    {
     "name": "stderr",
     "output_type": "stream",
     "text": [
      "Multiprocess sampling (4 chains in 4 jobs)\n",
      "BinaryGibbsMetropolis: [A, B, C, D, E]\n",
      "Sampling 4 chains: 100%|██████████| 42000/42000 [00:08<00:00, 5018.01draws/s]\n",
      "The number of effective samples is smaller than 25% for some parameters.\n"
     ]
    },
    {
     "name": "stdout",
     "output_type": "stream",
     "text": [
      "summary=        mean        sd  mc_error  hpd_2.5  hpd_97.5         n_eff      Rhat\n",
      "A  0.799417  0.400437  0.003281      0.0       1.0  12749.663707  1.000067\n",
      "B  0.683028  0.465296  0.005683      0.0       1.0   6219.321961  1.000151\n",
      "C  0.916139  0.277179  0.001956      0.0       1.0  20736.972469  1.000013\n",
      "D  0.679278  0.466754  0.005456      0.0       1.0   6606.420108  1.000141\n",
      "E  0.380111  0.485414  0.002023      0.0       1.0  67088.340937  0.999970\n"
     ]
    }
   ],
   "source": [
    "#Cancer - in lecture\n",
    "\n",
    "a_prob = np.array([0.2,0.8])  # 2 choices\n",
    "b_prob = np.array([[0.8,0.2],\n",
    "                   [.2,.8]])  # (2x2)x2 choices\n",
    "c_prob = np.array([[0.2,0.8],\n",
    "                   [.05,.95]])  # (2x2)x2 choices\n",
    "d_prob = np.array([[[0.8, 0.2],  # (2x2)x4 choices\n",
    "                     [0.8, 0.2]], \n",
    "                    [[0.8, 0.2], \n",
    "                     [0.05, 0.95]]])\n",
    "\n",
    "e_prob = np.array([[0.8,0.2],\n",
    "                   [.6,.4]])  # (2x2)x2 choices\n",
    "\n",
    "with pm.Model() as model:\n",
    "    A = pm.Categorical('A',p=a_prob)\n",
    "        \n",
    "    B_prob = theano.shared(b_prob)  # make numpy-->theano\n",
    "    B_0 = B_prob[A]  # select the prob array that \"happened\" thanks to parents\n",
    "    B = pm.Categorical('B',p=B_0)\n",
    "    #obs1 = pm.Bernoulli('obs1', p=B, observed=True)\n",
    "\n",
    "    C_prob = theano.shared(c_prob)  # make numpy-->theano\n",
    "    C_0 = C_prob[A]  # select the prob array that \"happened\" thanks to parents\n",
    "    C = pm.Categorical('C',p=C_0)    \n",
    "    \n",
    "    D_prob = theano.shared(d_prob)  # make numpy-->theano\n",
    "    D_0 = D_prob[B,C]  # select the prob array that \"happened\" thanks to parents\n",
    "    D = pm.Categorical('D',p=D_0)        \n",
    "    \n",
    "    E_prob = theano.shared(e_prob)  # make numpy-->theano\n",
    "    E_0 = E_prob[C]  # select the prob array that \"happened\" thanks to parents\n",
    "    E = pm.Categorical('E',p=E_0)    \n",
    "    #obs2 = pm.Bernoulli('obs2', p=E, observed=False)\n",
    "    \n",
    "    trace = pm.sample(10000)\n",
    "    \n",
    "    print(\"summary=\", pm.summary(trace, varnames=['A', 'B', 'C','D','E'], start=1000))\n",
    "    #pm.traceplot(trace[1000:], varnames=['D1', 'D2', 'D3'])\n",
    "    \n",
    "    #map_estimate = pm.find_MAP(model=model) #doesn't work\n",
    "    #map_estimate"
   ]
  },
  {
   "cell_type": "code",
   "execution_count": null,
   "metadata": {},
   "outputs": [],
   "source": [
    "\n",
    "x = np.array([0,1])\n",
    "\n",
    "with pm.Model() as model:\n",
    "    lambda_1 = pm.Exponential(\"lambda_1\", 1.0)\n",
    "    lambda_2 = pm.Exponential(\"lambda_2\", 1.0)\n",
    "    tau = pm.DiscreteUniform(\"tau\", lower=0, upper=10)\n",
    "\n",
    "\n",
    "    tmp = pm.Categorical('tmp',[0.7,0.3])\n",
    "    \n",
    "    X = pm.Deterministic('X',theano.shared(x)[tmp])\n",
    "    \n",
    "    p1 = pm.Uniform(\"p\", 0, 1)\n",
    "    p2 = 1 - p1\n",
    "    p = tt.stack([p1, p2])\n",
    "    \n",
    "    assignment = pm.Categorical(\"assignment\", p)\n",
    "    \n",
    "    trace = pm.sample()\n",
    "    \n",
    "    \n",
    "new_deterministic_variable = lambda_1 + lambda_2\n",
    "print(\"lambda1 = \", lambda_1.tag.test_value)\n",
    "print(\"lambda2 = \", lambda_2.tag.test_value)\n",
    "print(\"\\nnew_deterministic_variable = \", new_deterministic_variable.tag.test_value)\n",
    "\n",
    "print(\"\\ntrace=\", trace)"
   ]
  },
  {
   "cell_type": "code",
   "execution_count": null,
   "metadata": {},
   "outputs": [],
   "source": [
    "d1_prob = np.array([0.3,0.7])  # 2 choices\n",
    "d2_prob = np.array([0.6,0.3,0.1])  # 3 choices\n",
    "d3_prob = np.array([[[0.1, 0.9],  # (2x3)x2 choices\n",
    "                     [0.3, 0.7], \n",
    "                     [0.4, 0.6]], \n",
    "                    [[0.6, 0.4], \n",
    "                     [0.8, 0.2],\n",
    "                     [0.9, 0.1]]])\n",
    "\n",
    "with pm.Model() as model:\n",
    "    D1 = pm.Categorical('D1',p=d1_prob)\n",
    "    D2 = pm.Categorical('D2',p=d2_prob)\n",
    "        \n",
    "    D3_prob = theano.shared(d3_prob)  # make numpy-->theano\n",
    "    D3_0 = D3_prob[D1, D2]  # select the prob array that \"happened\" thanks to parents\n",
    "    D3 = pm.Categorical('D3',p=D3_0)\n",
    "\n",
    "    trace = pm.sample(10000)\n",
    "    \n",
    "    print(\"summary=\", pm.summary(trace, varnames=['D1', 'D2', 'D3'], start=1000))\n",
    "    #pm.traceplot(trace[1000:], varnames=['D1', 'D2', 'D3'])"
   ]
  },
  {
   "cell_type": "code",
   "execution_count": null,
   "metadata": {},
   "outputs": [],
   "source": [
    "#Cancer with MCMC\n",
    "\n",
    "a_prob = np.array([0.2,0.8])  # 2 choices\n",
    "b_prob = np.array([[0.8,0.2],\n",
    "                   [.2,.8]])  # (2x2)x2 choices\n",
    "c_prob = np.array([[0.2,0.8],\n",
    "                   [.05,.95]])  # (2x2)x2 choices\n",
    "d_prob = np.array([[[0.9, 0.2],  # (2x2)x4 choices\n",
    "                     [0.8, 0.2]], \n",
    "                    [[0.8, 0.2], \n",
    "                     [0.05, 0.95]]])\n",
    "\n",
    "with pm.Model() as model:\n",
    "    A = pm.Categorical('A',p=a_prob)\n",
    "        \n",
    "    B_prob = theano.shared(b_prob)  # make numpy-->theano\n",
    "    B_0 = B_prob[A]  # select the prob array that \"happened\" thanks to parents\n",
    "    B = pm.Categorical('B',p=B_0)\n",
    "\n",
    "    C_prob = theano.shared(c_prob)  # make numpy-->theano\n",
    "    C_0 = C_prob[A]  # select the prob array that \"happened\" thanks to parents\n",
    "    C = pm.Categorical('C',p=C_0)    \n",
    "    \n",
    "    #trace = pm.sample(50000)\n",
    "    \n",
    "    #pm.traceplot(trace[1000:], varnames=['D1', 'D2', 'D3'])\n",
    "    #start = pm.find_MAP()\n",
    "    step = pm.Metropolis()\n",
    "    trace = pm.sample(10000, step=step)\n",
    "    burned_trace = trace[1000::2]\n",
    "    \n",
    "    print(\"summary=\", pm.summary(trace, varnames=['A', 'B', 'C'], start=1000))    "
   ]
  },
  {
   "cell_type": "code",
   "execution_count": null,
   "metadata": {},
   "outputs": [],
   "source": []
  }
 ],
 "metadata": {
  "kernelspec": {
   "display_name": "Python 3",
   "language": "python",
   "name": "python3"
  },
  "language_info": {
   "codemirror_mode": {
    "name": "ipython",
    "version": 3
   },
   "file_extension": ".py",
   "mimetype": "text/x-python",
   "name": "python",
   "nbconvert_exporter": "python",
   "pygments_lexer": "ipython3",
   "version": "3.6.7"
  }
 },
 "nbformat": 4,
 "nbformat_minor": 2
}
